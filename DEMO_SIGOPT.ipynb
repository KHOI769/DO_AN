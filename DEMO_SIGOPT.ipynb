{
 "cells": [
  {
   "cell_type": "markdown",
   "metadata": {
    "id": "OqGhU5KHuh3D"
   },
   "source": [
    "# Cài đặt Sigopt\n",
    "Sử dụng câu lệnh bên dưới để cài đặt"
   ]
  },
  {
   "cell_type": "code",
   "execution_count": 1,
   "metadata": {
    "id": "gM8dxzJQsohE"
   },
   "outputs": [
    {
     "name": "stdout",
     "output_type": "stream",
     "text": [
      "Collecting sigopt\n",
      "  Using cached sigopt-8.4.0-py2.py3-none-any.whl (181 kB)\n",
      "Requirement already satisfied: rsa<5.0.0,>=4.7 in c:\\users\\ryor\\anaconda3\\lib\\site-packages (from sigopt) (4.7.2)\n",
      "Requirement already satisfied: click>=8.0.0 in c:\\users\\ryor\\anaconda3\\lib\\site-packages (from sigopt) (8.0.4)\n",
      "Collecting GitPython>=2.0.0\n",
      "  Using cached GitPython-3.1.27-py3-none-any.whl (181 kB)\n",
      "Collecting Pint<0.17.0,>=0.16.0\n",
      "  Using cached Pint-0.16.1-py2.py3-none-any.whl (205 kB)\n",
      "Collecting kubernetes<13.0.0,>=12.0.1\n",
      "  Using cached kubernetes-12.0.1-py2.py3-none-any.whl (1.7 MB)\n",
      "Requirement already satisfied: requests<3.0.0,>=2.25.0 in c:\\users\\ryor\\anaconda3\\lib\\site-packages (from sigopt) (2.27.1)\n",
      "Collecting pypng>=0.0.20\n",
      "  Using cached pypng-0.0.21-py3-none-any.whl (48 kB)\n",
      "Collecting backoff<2.0.0,>=1.10.0\n",
      "  Using cached backoff-1.11.1-py2.py3-none-any.whl (13 kB)\n",
      "Requirement already satisfied: pyOpenSSL>=20.0.0 in c:\\users\\ryor\\anaconda3\\lib\\site-packages (from sigopt) (21.0.0)\n",
      "Collecting docker<5.0.0,>=4.4.0\n",
      "  Using cached docker-4.4.4-py2.py3-none-any.whl (147 kB)\n",
      "Requirement already satisfied: packaging>=21.3 in c:\\users\\ryor\\anaconda3\\lib\\site-packages (from sigopt) (21.3)\n",
      "Requirement already satisfied: ipython>=5.0.0 in c:\\users\\ryor\\anaconda3\\lib\\site-packages (from sigopt) (8.2.0)\n",
      "Collecting PyYAML<6.0.0,==5.4.1\n",
      "  Downloading PyYAML-5.4.1-cp39-cp39-win_amd64.whl (213 kB)\n",
      "Collecting boto3<2.0.0,==1.16.34\n",
      "  Using cached boto3-1.16.34-py2.py3-none-any.whl (129 kB)\n",
      "Requirement already satisfied: jmespath<1.0.0,>=0.7.1 in c:\\users\\ryor\\anaconda3\\lib\\site-packages (from boto3<2.0.0,==1.16.34->sigopt) (0.10.0)\n",
      "Collecting botocore<1.20.0,>=1.19.34\n",
      "  Using cached botocore-1.19.63-py2.py3-none-any.whl (7.2 MB)\n",
      "Collecting s3transfer<0.4.0,>=0.3.0\n",
      "  Using cached s3transfer-0.3.7-py2.py3-none-any.whl (73 kB)\n",
      "Requirement already satisfied: python-dateutil<3.0.0,>=2.1 in c:\\users\\ryor\\anaconda3\\lib\\site-packages (from botocore<1.20.0,>=1.19.34->boto3<2.0.0,==1.16.34->sigopt) (2.8.2)\n",
      "Requirement already satisfied: urllib3<1.27,>=1.25.4 in c:\\users\\ryor\\anaconda3\\lib\\site-packages (from botocore<1.20.0,>=1.19.34->boto3<2.0.0,==1.16.34->sigopt) (1.26.9)\n",
      "Requirement already satisfied: colorama in c:\\users\\ryor\\anaconda3\\lib\\site-packages (from click>=8.0.0->sigopt) (0.4.4)\n",
      "Requirement already satisfied: websocket-client>=0.32.0 in c:\\users\\ryor\\anaconda3\\lib\\site-packages (from docker<5.0.0,>=4.4.0->sigopt) (0.58.0)\n",
      "Collecting pywin32==227"
     ]
    },
    {
     "name": "stderr",
     "output_type": "stream",
     "text": [
      "ERROR: Could not install packages due to an OSError: [WinError 5] Access is denied: 'C:\\\\Users\\\\Ryor\\\\anaconda3\\\\Lib\\\\site-packages\\\\win32\\\\_win32sysloader.pyd'\n",
      "Consider using the `--user` option or check the permissions.\n",
      "\n"
     ]
    },
    {
     "name": "stdout",
     "output_type": "stream",
     "text": [
      "\n",
      "  Downloading pywin32-227-cp39-cp39-win_amd64.whl (9.1 MB)\n",
      "Requirement already satisfied: six>=1.4.0 in c:\\users\\ryor\\anaconda3\\lib\\site-packages (from docker<5.0.0,>=4.4.0->sigopt) (1.16.0)\n",
      "Collecting gitdb<5,>=4.0.1\n",
      "  Using cached gitdb-4.0.9-py3-none-any.whl (63 kB)\n",
      "Collecting smmap<6,>=3.0.1\n",
      "  Using cached smmap-5.0.0-py3-none-any.whl (24 kB)\n",
      "Requirement already satisfied: prompt-toolkit!=3.0.0,!=3.0.1,<3.1.0,>=2.0.0 in c:\\users\\ryor\\anaconda3\\lib\\site-packages (from ipython>=5.0.0->sigopt) (3.0.20)\n",
      "Requirement already satisfied: setuptools>=18.5 in c:\\users\\ryor\\anaconda3\\lib\\site-packages (from ipython>=5.0.0->sigopt) (61.2.0)\n",
      "Requirement already satisfied: decorator in c:\\users\\ryor\\anaconda3\\lib\\site-packages (from ipython>=5.0.0->sigopt) (5.1.1)\n",
      "Requirement already satisfied: backcall in c:\\users\\ryor\\anaconda3\\lib\\site-packages (from ipython>=5.0.0->sigopt) (0.2.0)\n",
      "Requirement already satisfied: traitlets>=5 in c:\\users\\ryor\\anaconda3\\lib\\site-packages (from ipython>=5.0.0->sigopt) (5.1.1)\n",
      "Requirement already satisfied: jedi>=0.16 in c:\\users\\ryor\\anaconda3\\lib\\site-packages (from ipython>=5.0.0->sigopt) (0.18.1)\n",
      "Requirement already satisfied: pygments>=2.4.0 in c:\\users\\ryor\\anaconda3\\lib\\site-packages (from ipython>=5.0.0->sigopt) (2.11.2)\n",
      "Requirement already satisfied: matplotlib-inline in c:\\users\\ryor\\anaconda3\\lib\\site-packages (from ipython>=5.0.0->sigopt) (0.1.2)\n",
      "Requirement already satisfied: stack-data in c:\\users\\ryor\\anaconda3\\lib\\site-packages (from ipython>=5.0.0->sigopt) (0.2.0)\n",
      "Requirement already satisfied: pickleshare in c:\\users\\ryor\\anaconda3\\lib\\site-packages (from ipython>=5.0.0->sigopt) (0.7.5)\n",
      "Requirement already satisfied: parso<0.9.0,>=0.8.0 in c:\\users\\ryor\\anaconda3\\lib\\site-packages (from jedi>=0.16->ipython>=5.0.0->sigopt) (0.8.3)\n",
      "Requirement already satisfied: google-auth>=1.0.1 in c:\\users\\ryor\\anaconda3\\lib\\site-packages (from kubernetes<13.0.0,>=12.0.1->sigopt) (1.33.0)\n",
      "Collecting requests-oauthlib\n",
      "  Using cached requests_oauthlib-1.3.1-py2.py3-none-any.whl (23 kB)\n",
      "Requirement already satisfied: certifi>=14.05.14 in c:\\users\\ryor\\anaconda3\\lib\\site-packages (from kubernetes<13.0.0,>=12.0.1->sigopt) (2021.10.8)\n",
      "Requirement already satisfied: cachetools<5.0,>=2.0.0 in c:\\users\\ryor\\anaconda3\\lib\\site-packages (from google-auth>=1.0.1->kubernetes<13.0.0,>=12.0.1->sigopt) (4.2.2)\n",
      "Requirement already satisfied: pyasn1-modules>=0.2.1 in c:\\users\\ryor\\anaconda3\\lib\\site-packages (from google-auth>=1.0.1->kubernetes<13.0.0,>=12.0.1->sigopt) (0.2.8)\n",
      "Requirement already satisfied: pyparsing!=3.0.5,>=2.0.2 in c:\\users\\ryor\\anaconda3\\lib\\site-packages (from packaging>=21.3->sigopt) (3.0.4)\n",
      "Requirement already satisfied: wcwidth in c:\\users\\ryor\\anaconda3\\lib\\site-packages (from prompt-toolkit!=3.0.0,!=3.0.1,<3.1.0,>=2.0.0->ipython>=5.0.0->sigopt) (0.2.5)\n",
      "Requirement already satisfied: pyasn1<0.5.0,>=0.4.6 in c:\\users\\ryor\\anaconda3\\lib\\site-packages (from pyasn1-modules>=0.2.1->google-auth>=1.0.1->kubernetes<13.0.0,>=12.0.1->sigopt) (0.4.8)\n",
      "Requirement already satisfied: cryptography>=3.3 in c:\\users\\ryor\\anaconda3\\lib\\site-packages (from pyOpenSSL>=20.0.0->sigopt) (3.4.8)\n",
      "Requirement already satisfied: cffi>=1.12 in c:\\users\\ryor\\anaconda3\\lib\\site-packages (from cryptography>=3.3->pyOpenSSL>=20.0.0->sigopt) (1.15.0)\n",
      "Requirement already satisfied: pycparser in c:\\users\\ryor\\anaconda3\\lib\\site-packages (from cffi>=1.12->cryptography>=3.3->pyOpenSSL>=20.0.0->sigopt) (2.21)\n",
      "Requirement already satisfied: idna<4,>=2.5 in c:\\users\\ryor\\anaconda3\\lib\\site-packages (from requests<3.0.0,>=2.25.0->sigopt) (3.3)\n",
      "Requirement already satisfied: charset-normalizer~=2.0.0 in c:\\users\\ryor\\anaconda3\\lib\\site-packages (from requests<3.0.0,>=2.25.0->sigopt) (2.0.4)\n",
      "Collecting oauthlib>=3.0.0\n",
      "  Using cached oauthlib-3.2.0-py3-none-any.whl (151 kB)\n",
      "Requirement already satisfied: asttokens in c:\\users\\ryor\\anaconda3\\lib\\site-packages (from stack-data->ipython>=5.0.0->sigopt) (2.0.5)\n",
      "Requirement already satisfied: executing in c:\\users\\ryor\\anaconda3\\lib\\site-packages (from stack-data->ipython>=5.0.0->sigopt) (0.8.3)\n",
      "Requirement already satisfied: pure-eval in c:\\users\\ryor\\anaconda3\\lib\\site-packages (from stack-data->ipython>=5.0.0->sigopt) (0.2.2)\n",
      "Installing collected packages: smmap, oauthlib, botocore, s3transfer, requests-oauthlib, PyYAML, pywin32, gitdb, pypng, Pint, kubernetes, GitPython, docker, boto3, backoff, sigopt\n",
      "  Attempting uninstall: botocore\n",
      "    Found existing installation: botocore 1.24.32\n",
      "    Uninstalling botocore-1.24.32:\n",
      "      Successfully uninstalled botocore-1.24.32\n",
      "  Attempting uninstall: s3transfer\n",
      "    Found existing installation: s3transfer 0.5.0\n",
      "    Uninstalling s3transfer-0.5.0:\n",
      "      Successfully uninstalled s3transfer-0.5.0\n",
      "  Attempting uninstall: PyYAML\n",
      "    Found existing installation: PyYAML 6.0\n",
      "    Uninstalling PyYAML-6.0:\n",
      "      Successfully uninstalled PyYAML-6.0\n",
      "  Attempting uninstall: pywin32\n",
      "    Found existing installation: pywin32 302\n",
      "    Uninstalling pywin32-302:\n",
      "      Successfully uninstalled pywin32-302\n",
      "  Rolling back uninstall of pywin32\n",
      "  Moving to c:\\users\\ryor\\anaconda3\\lib\\site-packages\\__pycache__\\pythoncom.cpython-39.pyc\n",
      "   from C:\\Users\\Ryor\\AppData\\Local\\Temp\\pip-uninstall-32o3moqu\\pythoncom.cpython-39.pyc\n",
      "  Moving to c:\\users\\ryor\\anaconda3\\lib\\site-packages\\adodbapi\n",
      "   from C:\\Users\\Ryor\\anaconda3\\Lib\\site-packages\\~dodbapi\n",
      "  Moving to c:\\users\\ryor\\anaconda3\\lib\\site-packages\\isapi\n",
      "   from C:\\Users\\Ryor\\anaconda3\\Lib\\site-packages\\~sapi\n",
      "  Moving to c:\\users\\ryor\\anaconda3\\lib\\site-packages\\pythoncom.py\n",
      "   from C:\\Users\\Ryor\\AppData\\Local\\Temp\\pip-uninstall-varefgzw\\pythoncom.py\n",
      "  Moving to c:\\users\\ryor\\anaconda3\\lib\\site-packages\\pythonwin\n",
      "   from C:\\Users\\Ryor\\anaconda3\\Lib\\site-packages\\~ythonwin\n",
      "  Moving to c:\\users\\ryor\\anaconda3\\lib\\site-packages\\pywin32-302-py3.9.egg-info\n",
      "   from C:\\Users\\Ryor\\anaconda3\\Lib\\site-packages\\~ywin32-302-py3.9.egg-info\n",
      "  Moving to c:\\users\\ryor\\anaconda3\\lib\\site-packages\\win32\\lib\\\n",
      "   from C:\\Users\\Ryor\\anaconda3\\Lib\\site-packages\\win32\\~ib\n",
      "  Moving to c:\\users\\ryor\\anaconda3\\lib\\site-packages\\win32com\n",
      "   from C:\\Users\\Ryor\\anaconda3\\Lib\\site-packages\\~in32com\n",
      "  Moving to c:\\users\\ryor\\anaconda3\\lib\\site-packages\\win32comext\n",
      "   from C:\\Users\\Ryor\\anaconda3\\Lib\\site-packages\\~in32comext\n"
     ]
    }
   ],
   "source": [
    "!pip install sigopt"
   ]
  },
  {
   "cell_type": "markdown",
   "metadata": {
    "id": "C1iluNssuylY"
   },
   "source": [
    "# Lấy API_TOKEN \n",
    "Đầu tiên chúng ta cần đăng nhập vầo Sigopt và chọn vào phần API Tokens để lấy API Token có mã như sao : JIGCTDCWFICIUSWUHDJIGFUUKSTRLWMCKRJXBDIDQILQTVFW"
   ]
  },
  {
   "cell_type": "code",
   "execution_count": 2,
   "metadata": {
    "colab": {
     "base_uri": "https://localhost:8080/"
    },
    "id": "ClwkxJy5sp-Z",
    "outputId": "026275ec-3ae2-4ef6-9c74-8a1c172447f8"
   },
   "outputs": [
    {
     "name": "stderr",
     "output_type": "stream",
     "text": [
      "/usr/local/lib/python3.7/dist-packages/distributed/config.py:20: YAMLLoadWarning: calling yaml.load() without Loader=... is deprecated, as the default Loader is unsafe. Please read https://msg.pyyaml.org/load for full details.\n",
      "  defaults = yaml.load(f)\n"
     ]
    },
    {
     "name": "stdout",
     "output_type": "stream",
     "text": [
      "SigOpt API token (find at https://app.sigopt.com/tokens/info): ··········\n",
      "Log Collection\n",
      "\tThis will capture and upload the standard output and standard error of your\n",
      "\tRuns from the CLI and notebook cells so that you can view them on the SigOpt dashboard.\n",
      "Enable log collection [y/N]: y\n",
      "Notebook Cell Tracking\n",
      "\tThis will record and upload the content of your notebook cells so that you can view them\n",
      "\ton the SigOpt dashboard.\n",
      "Enable cell tracking [y/N]: y\n"
     ]
    }
   ],
   "source": [
    "import sigopt\n",
    "%load_ext sigopt\n",
    "%sigopt config"
   ]
  },
  {
   "cell_type": "markdown",
   "metadata": {
    "id": "ztAPz971unxA"
   },
   "source": [
    "#Import thư viện\n",
    "Thêm thư viện để tải dữ liệu"
   ]
  },
  {
   "cell_type": "code",
   "execution_count": 3,
   "metadata": {
    "id": "f3pnw6FCsqTw"
   },
   "outputs": [],
   "source": [
    "from xgboost import XGBClassifier\n",
    "from sklearn.multiclass import OneVsRestClassifier\n",
    "from sklearn.model_selection import cross_val_score\n",
    "from sklearn.preprocessing import OneHotEncoder, StandardScaler\n",
    "from sklearn import datasets\n",
    "import numpy\n",
    "import sigopt\n",
    "import time"
   ]
  },
  {
   "cell_type": "markdown",
   "metadata": {
    "id": "HvJGY6nRusJY"
   },
   "source": [
    "# Tải tập dữ liệu\n",
    "Tải tập dữ liệu sklearn và các tính năng tỷ lệ về giá trị trung bình bằng 0, phương sai đơn vị."
   ]
  },
  {
   "cell_type": "code",
   "execution_count": 4,
   "metadata": {
    "id": "mRW7zf5usqvg"
   },
   "outputs": [],
   "source": [
    "DATASET_NAME = \"Sklearn Wine\"\n",
    "FEATURE_ENG_PIPELINE_NAME = \"Sklearn Standard Scalar\"\n",
    "PREDICTION_TYPE = \"Multiclass\"\n",
    "DATASET_SRC = \"sklearn.datasets\"\n",
    "\n",
    "def get_data():\n",
    "\n",
    "  \"\"\"\n",
    "  Load sklearn wine dataset, and scale features to be zero mean, unit variance.\n",
    "  One hot encode labels (3 classes), to be used by sklearn OneVsRestClassifier.\n",
    "  \"\"\"\n",
    "\n",
    "  data = datasets.load_wine()\n",
    "  X = data[\"data\"]\n",
    "  y = data[\"target\"]\n",
    "\n",
    "  scaler = StandardScaler()\n",
    "  X_scaled = scaler.fit_transform(X)\n",
    "\n",
    "  enc = OneHotEncoder()\n",
    "  Y = enc.fit_transform(y[:, numpy.newaxis]).toarray()\n",
    "\n",
    "  return (X_scaled, Y)"
   ]
  },
  {
   "cell_type": "markdown",
   "metadata": {
    "id": "Jdgnz8opu_iZ"
   },
   "source": [
    "# Bây giờ chúng ta tạo hàm chức năng cho mô hình\n",
    "eval_xgboost_model khởi tạo một bộ phân loại xgboost cho mỗi lớp trong tập dữ liệu 3 lớp của chúng ta và đánh giá bộ phân loại.\n",
    "\n",
    "number_of_cross_val_folds trước khi báo cáo điểm trung bình và thời gian  để khởi tạo và đào tạo các mô hình."
   ]
  },
  {
   "cell_type": "code",
   "execution_count": 5,
   "metadata": {
    "id": "mTzd7KDmsx04"
   },
   "outputs": [],
   "source": [
    "#max_depth: Độ sâu tối đa cây quyết định \n",
    "#learning_rate: Thời gian học sau mỗi bước tăng cường\n",
    "#min_split_loss:Giảm tổn thất tối thiểu cần thiết để thực hiện một phân vùng tiếp theo trên một nút của cây quết định.\n",
    "MODEL_NAME = \"OneVsRestClassifier(XGBoostClassifier)\"\n",
    "\n",
    "def evaluate_xgboost_model(X, y,\n",
    "                           number_of_cross_val_folds=5,\n",
    "                           max_depth=6,\n",
    "                           learning_rate=0.3,\n",
    "                           min_split_loss=0):\n",
    "    t0 = time.time()\n",
    "    classifier = OneVsRestClassifier(XGBClassifier(\n",
    "        objective = \"binary:logistic\",\n",
    "        max_depth =    max_depth,\n",
    "        learning_rate = learning_rate,\n",
    "        min_split_loss = min_split_loss,\n",
    "        use_label_encoder=False,\n",
    "        verbosity = 0\n",
    "    ))\n",
    "    cv_accuracies = cross_val_score(classifier, X, y, cv=number_of_cross_val_folds)\n",
    "    tf = time.time()\n",
    "    training_and_validation_time = (tf-t0)\n",
    "    return numpy.mean(cv_accuracies), training_and_validation_time"
   ]
  },
  {
   "cell_type": "markdown",
   "metadata": {
    "id": "zvLXYwi-vETR"
   },
   "source": [
    "# Hàm thứ hai run_and_track_in_sigopt sử dụng các phương pháp SigOpt để ghi nhật ký và theo dõi thông tin mô hình chính bao gồm:\n",
    "\n",
    "1.  Loại mô hình được sử dụng (sigopt.log_model)\n",
    "2.  Tên của tập dữ liệu (sigopt.log_dataset)\n",
    "3.  Các siêu tham số được sử dụng để xây dựng mô hình (sigopt.params. [PARAMETER_NAME])\n",
    "4.  Các thuộc tính khác nhau có liên quan đến mô hình (sigopt.log_metadata)\n",
    "5.  Số liệu đầu ra của mô hình (sigopt.log_metric)."
   ]
  },
  {
   "cell_type": "code",
   "execution_count": 6,
   "metadata": {
    "id": "7T8HGSbKs0Ww"
   },
   "outputs": [],
   "source": [
    "def run_and_track_in_sigopt():\n",
    "\n",
    "    (features, labels) = get_data()\n",
    "\n",
    "    sigopt.log_dataset(DATASET_NAME)\n",
    "    sigopt.log_metadata(key=\"Dataset Source\", value=DATASET_SRC)\n",
    "    sigopt.log_metadata(key=\"Feature Eng Pipeline Name\", value=FEATURE_ENG_PIPELINE_NAME)\n",
    "    sigopt.log_metadata(key=\"Dataset Rows\", value=features.shape[0]) \n",
    "    sigopt.log_metadata(key=\"Dataset Columns\", value=features.shape[1])\n",
    "    sigopt.log_metadata(key=\"Execution Environment\", value=\"Colab Notebook\")\n",
    "    sigopt.log_model(MODEL_NAME)\n",
    "\n",
    "    sigopt.params.setdefault(\"max_depth\", numpy.random.randint(low=3, high=15, dtype=int))\n",
    "    sigopt.params.setdefault(\"learning_rate\", numpy.random.random(size=1)[0])\n",
    "    sigopt.params.setdefault(\"min_split_loss\", numpy.random.random(size=1)[0]*10)\n",
    "\n",
    "    args = dict(X=features,\n",
    "                y=labels,\n",
    "                max_depth=sigopt.params.max_depth,\n",
    "                learning_rate=sigopt.params.learning_rate,\n",
    "                min_split_loss=sigopt.params.min_split_loss)\n",
    "\n",
    "    mean_accuracy, training_and_validation_time = evaluate_xgboost_model(**args)\n",
    "\n",
    "    sigopt.log_metric(name='accuracy', value=mean_accuracy)\n",
    "    sigopt.log_metric(name='training and validation time (s)', value=training_and_validation_time)"
   ]
  },
  {
   "cell_type": "markdown",
   "metadata": {
    "id": "cUApZL6cvTnJ"
   },
   "source": [
    "Với lệnh %%experiment bên dưới,chúng ta cấu hình %%experiment bằng cách đặt tên cho nó, xác định độ chính xác làm chỉ số để tối đa hóa và cuối cùng đặt không gian siêu tham số  bằng cách cho SigOpt chạy các giá trị trong ranh giới đã đặt. Sau đó công cụ tối ưu hóa của SigOpt trả về các giá trị cho độ sâu tối đa từ 3 và 12 và tỷ lệ học tập là 0 và 1. Cuối cùng, xác định thời gian chúng ta sẽ đào tạo mô hình của mình. Cuối cùng chúng ta sẽ huấn luyện mô hình 4 lần, tương ứng với 4 lần chạy SigOpt."
   ]
  },
  {
   "cell_type": "code",
   "execution_count": 9,
   "metadata": {
    "colab": {
     "base_uri": "https://localhost:8080/"
    },
    "id": "MfKPM3LIs234",
    "outputId": "9d53486d-f324-4958-ecb9-5ead0536b5af"
   },
   "outputs": [
    {
     "name": "stdout",
     "output_type": "stream",
     "text": [
      "Experiment created, view it on the SigOpt dashboard at https://app.sigopt.com/experiment/522728\n"
     ]
    }
   ],
   "source": [
    "%%experiment\n",
    "{\n",
    "    'name': 'XGBoost Optimization',\n",
    "    'metrics': [\n",
    "        {\n",
    "            'name': 'accuracy',\n",
    "            'strategy': 'optimize',\n",
    "            'objective': 'maximize',\n",
    "        }\n",
    "    ],\n",
    "    'parameters': [\n",
    "        {\n",
    "            'name': 'max_depth',\n",
    "            'type': 'int',\n",
    "            'bounds': {'min': 3, 'max': 12}\n",
    "        },\n",
    "        {\n",
    "            'name': 'learning_rate',\n",
    "            'type': 'double',\n",
    "            'bounds': {'min': 0.0, 'max': 1.0}\n",
    "        }\n",
    "    ],\n",
    "    'budget': 4\n",
    "}"
   ]
  },
  {
   "cell_type": "markdown",
   "metadata": {
    "id": "Z4kU8vz5xS_Z"
   },
   "source": [
    "#Chạy tối ưu\n",
    "Chạy tối ưu hóa  bằng cách sử dụng lệnh  %% optimize. SigOpt sẽ chọn cấu hình thử nghiệm tự động và thuận tiện xuất các liên kết trong thiết bị đầu cuối tới ứng dụng chạy trên web hiện tại ."
   ]
  },
  {
   "cell_type": "code",
   "execution_count": 10,
   "metadata": {
    "colab": {
     "base_uri": "https://localhost:8080/"
    },
    "id": "jVdyD5d8s53R",
    "outputId": "18f85b4e-0d0b-4004-80f3-c25b0d348f93"
   },
   "outputs": [
    {
     "name": "stdout",
     "output_type": "stream",
     "text": [
      "Run started, view it on the SigOpt dashboard at https://app.sigopt.com/run/316557\n",
      "Run finished, view it on the SigOpt dashboard at https://app.sigopt.com/run/316557\n",
      "Run started, view it on the SigOpt dashboard at https://app.sigopt.com/run/316558\n",
      "Run finished, view it on the SigOpt dashboard at https://app.sigopt.com/run/316558\n",
      "Run started, view it on the SigOpt dashboard at https://app.sigopt.com/run/316559\n",
      "Run finished, view it on the SigOpt dashboard at https://app.sigopt.com/run/316559\n",
      "Run started, view it on the SigOpt dashboard at https://app.sigopt.com/run/316560\n",
      "Run finished, view it on the SigOpt dashboard at https://app.sigopt.com/run/316560\n"
     ]
    }
   ],
   "source": [
    "%%optimize teamdemo\n",
    "run_and_track_in_sigopt()"
   ]
  }
 ],
 "metadata": {
  "colab": {
   "collapsed_sections": [],
   "name": "DEMO_SIGOPT",
   "provenance": []
  },
  "kernelspec": {
   "display_name": "Python 3 (ipykernel)",
   "language": "python",
   "name": "python3"
  },
  "language_info": {
   "codemirror_mode": {
    "name": "ipython",
    "version": 3
   },
   "file_extension": ".py",
   "mimetype": "text/x-python",
   "name": "python",
   "nbconvert_exporter": "python",
   "pygments_lexer": "ipython3",
   "version": "3.9.12"
  }
 },
 "nbformat": 4,
 "nbformat_minor": 1
}
